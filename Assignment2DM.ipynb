{
  "nbformat": 4,
  "nbformat_minor": 0,
  "metadata": {
    "colab": {
      "provenance": []
    },
    "kernelspec": {
      "name": "python3",
      "display_name": "Python 3"
    },
    "language_info": {
      "name": "python"
    }
  },
  "cells": [
    {
      "cell_type": "markdown",
      "source": [
        "# 1. Feature Extraction dan Feature Engineering"
      ],
      "metadata": {
        "id": "-23C61ajMjru"
      }
    },
    {
      "cell_type": "code",
      "execution_count": 21,
      "metadata": {
        "colab": {
          "base_uri": "https://localhost:8080/"
        },
        "id": "bYEBz_YD_1in",
        "outputId": "0403d9d9-3377-41c9-9dd2-bcb7477d1f1b"
      },
      "outputs": [
        {
          "output_type": "stream",
          "name": "stdout",
          "text": [
            "NO                                          int64\n",
            "NAMA                                       object\n",
            "USIA                                      float64\n",
            "PARITAS                                     int64\n",
            "JARAK KELAHIRAN                             int64\n",
            "PE/Non PE                                   int64\n",
            "RIW HIPERTENSI_Tidak                      float64\n",
            "RIW HIPERTENSI_Ya                         float64\n",
            "RIW PE_Ada                                float64\n",
            "RIW PE_Tidak                              float64\n",
            "OBESITAS_Tidak                            float64\n",
            "OBESITAS_Ya                               float64\n",
            "RIW DM_Tidak                              float64\n",
            "RIW DM_Ya                                 float64\n",
            "RIW HIPERTENSI/PE DALAM KELUARGA_Ada      float64\n",
            "RIW HIPERTENSI/PE DALAM KELUARGA_Tidak    float64\n",
            "SOSEK RENDAH_<UMR                         float64\n",
            "SOSEK RENDAH_>UMR                         float64\n",
            "dtype: object\n"
          ]
        }
      ],
      "source": [
        "import pandas as pd\n",
        "\n",
        "# Load dataset\n",
        "file_path = '/content/datasets-jadi.csv'\n",
        "df = pd.read_csv(file_path)\n",
        "\n",
        "# Melihat tipe data dari setiap kolom\n",
        "print(df.dtypes)"
      ]
    },
    {
      "cell_type": "markdown",
      "source": [
        "# 2. Mengidentifikasi Variabel Categorical dan Numerical\n",
        "Periksa ulang apakah semua kolom sudah benar diklasifikasikan menjadi kategori numerik atau kategorikal setelah preprocessing."
      ],
      "metadata": {
        "id": "oj_kDiMHLBCG"
      }
    },
    {
      "cell_type": "code",
      "source": [
        "# One-Hot Encoding pada variabel kategorikal\n",
        "df_encoded = pd.get_dummies(df, drop_first=True)\n",
        "\n",
        "# Cek hasil encoding\n",
        "print(df_encoded.head())"
      ],
      "metadata": {
        "colab": {
          "base_uri": "https://localhost:8080/"
        },
        "id": "JZlWVZbOAxcu",
        "outputId": "97a3ff42-4edc-4332-8fb1-7d35c1b5f16f"
      },
      "execution_count": 22,
      "outputs": [
        {
          "output_type": "stream",
          "name": "stdout",
          "text": [
            "   NO  USIA  PARITAS  JARAK KELAHIRAN  PE/Non PE  RIW HIPERTENSI_Tidak  \\\n",
            "0   1  23.0        3                0          0                   1.0   \n",
            "1   2  29.0        2                0          1                   1.0   \n",
            "2   3  20.0        1                2          0                   1.0   \n",
            "3   4  18.0        1                2          0                   1.0   \n",
            "4   5  34.0        3                1          0                   1.0   \n",
            "\n",
            "   RIW HIPERTENSI_Ya  RIW PE_Ada  RIW PE_Tidak  OBESITAS_Tidak  ...  \\\n",
            "0                0.0         0.0           1.0             1.0  ...   \n",
            "1                0.0         1.0           0.0             1.0  ...   \n",
            "2                0.0         0.0           1.0             1.0  ...   \n",
            "3                0.0         0.0           1.0             1.0  ...   \n",
            "4                0.0         0.0           1.0             1.0  ...   \n",
            "\n",
            "   NAMA_NAMA 90  NAMA_NAMA 91  NAMA_NAMA 92  NAMA_NAMA 93  NAMA_NAMA 94  \\\n",
            "0         False         False         False         False         False   \n",
            "1         False         False         False         False         False   \n",
            "2         False         False         False         False         False   \n",
            "3         False         False         False         False         False   \n",
            "4         False         False         False         False         False   \n",
            "\n",
            "   NAMA_NAMA 95  NAMA_NAMA 96  NAMA_NAMA 97  NAMA_NAMA 98  NAMA_NAMA 99  \n",
            "0         False         False         False         False         False  \n",
            "1         False         False         False         False         False  \n",
            "2         False         False         False         False         False  \n",
            "3         False         False         False         False         False  \n",
            "4         False         False         False         False         False  \n",
            "\n",
            "[5 rows x 577 columns]\n"
          ]
        }
      ]
    },
    {
      "cell_type": "markdown",
      "source": [
        "# 3. One-Hot Encoding untuk Variabel Kategorikal\n",
        "One-Hot Encoding pada kolom yang bersifat kategorikal. Diperlukan agar model machine learning bisa bekerja pada data non-numerik."
      ],
      "metadata": {
        "id": "A7QasViDLZgf"
      }
    },
    {
      "cell_type": "code",
      "source": [
        "from sklearn.preprocessing import StandardScaler\n",
        "\n",
        "# Identifikasi kolom numerik\n",
        "numeric_cols = df_encoded.select_dtypes(include=['float64', 'int64']).columns\n",
        "\n",
        "# Lakukan StandardScaler\n",
        "scaler = StandardScaler()\n",
        "df_encoded[numeric_cols] = scaler.fit_transform(df_encoded[numeric_cols])\n",
        "\n",
        "# Cek hasil scaling\n",
        "print(df_encoded.head())"
      ],
      "metadata": {
        "colab": {
          "base_uri": "https://localhost:8080/"
        },
        "id": "C7qVkPj0A0Y-",
        "outputId": "cfb6fbfc-1125-4dc9-e59d-2a351c48c346"
      },
      "execution_count": 23,
      "outputs": [
        {
          "output_type": "stream",
          "name": "stdout",
          "text": [
            "         NO      USIA   PARITAS  JARAK KELAHIRAN  PE/Non PE  \\\n",
            "0 -1.732028 -0.887602  1.276255        -1.863823  -0.280796   \n",
            "1 -1.725861  0.137419  0.287334        -1.863823   3.561310   \n",
            "2 -1.719694 -1.400112 -0.701588         0.935654  -0.280796   \n",
            "3 -1.713527 -1.741786 -0.701588         0.935654  -0.280796   \n",
            "4 -1.707360  0.991603  1.276255        -0.464084  -0.280796   \n",
            "\n",
            "   RIW HIPERTENSI_Tidak  RIW HIPERTENSI_Ya  RIW PE_Ada  RIW PE_Tidak  \\\n",
            "0              0.323003          -0.323003   -0.257953      0.257953   \n",
            "1              0.323003          -0.323003    3.876670     -3.876670   \n",
            "2              0.323003          -0.323003   -0.257953      0.257953   \n",
            "3              0.323003          -0.323003   -0.257953      0.257953   \n",
            "4              0.323003          -0.323003   -0.257953      0.257953   \n",
            "\n",
            "   OBESITAS_Tidak  ...  NAMA_NAMA 90  NAMA_NAMA 91  NAMA_NAMA 92  \\\n",
            "0         0.09483  ...         False         False         False   \n",
            "1         0.09483  ...         False         False         False   \n",
            "2         0.09483  ...         False         False         False   \n",
            "3         0.09483  ...         False         False         False   \n",
            "4         0.09483  ...         False         False         False   \n",
            "\n",
            "   NAMA_NAMA 93  NAMA_NAMA 94  NAMA_NAMA 95  NAMA_NAMA 96  NAMA_NAMA 97  \\\n",
            "0         False         False         False         False         False   \n",
            "1         False         False         False         False         False   \n",
            "2         False         False         False         False         False   \n",
            "3         False         False         False         False         False   \n",
            "4         False         False         False         False         False   \n",
            "\n",
            "   NAMA_NAMA 98  NAMA_NAMA 99  \n",
            "0         False         False  \n",
            "1         False         False  \n",
            "2         False         False  \n",
            "3         False         False  \n",
            "4         False         False  \n",
            "\n",
            "[5 rows x 577 columns]\n"
          ]
        }
      ]
    },
    {
      "cell_type": "markdown",
      "source": [
        "# 4. Scaling atau Normalisasi Variabel Numerik\n",
        "Variabel numerik perlu di-scale (normalisasi) agar berada pada rentang yang seragam dengan StandardScaler atau MinMaxScaler."
      ],
      "metadata": {
        "id": "EQat5mU1Ld7l"
      }
    },
    {
      "cell_type": "code",
      "source": [
        "from sklearn.preprocessing import StandardScaler\n",
        "\n",
        "# Identifikasi kolom numerik\n",
        "numeric_cols = df_encoded.select_dtypes(include=['float64', 'int64']).columns\n",
        "\n",
        "# Lakukan StandardScaler\n",
        "scaler = StandardScaler()\n",
        "df_encoded[numeric_cols] = scaler.fit_transform(df_encoded[numeric_cols])\n",
        "\n",
        "# Cek hasil scaling\n",
        "print(df_encoded.head())"
      ],
      "metadata": {
        "colab": {
          "base_uri": "https://localhost:8080/"
        },
        "id": "spq1YqFxA4o9",
        "outputId": "cf21c146-6e44-487f-fa57-a0cdd4b73dd2"
      },
      "execution_count": 24,
      "outputs": [
        {
          "output_type": "stream",
          "name": "stdout",
          "text": [
            "         NO      USIA   PARITAS  JARAK KELAHIRAN  PE/Non PE  \\\n",
            "0 -1.732028 -0.887602  1.276255        -1.863823  -0.280796   \n",
            "1 -1.725861  0.137419  0.287334        -1.863823   3.561310   \n",
            "2 -1.719694 -1.400112 -0.701588         0.935654  -0.280796   \n",
            "3 -1.713527 -1.741786 -0.701588         0.935654  -0.280796   \n",
            "4 -1.707360  0.991603  1.276255        -0.464084  -0.280796   \n",
            "\n",
            "   RIW HIPERTENSI_Tidak  RIW HIPERTENSI_Ya  RIW PE_Ada  RIW PE_Tidak  \\\n",
            "0              0.323003          -0.323003   -0.257953      0.257953   \n",
            "1              0.323003          -0.323003    3.876670     -3.876670   \n",
            "2              0.323003          -0.323003   -0.257953      0.257953   \n",
            "3              0.323003          -0.323003   -0.257953      0.257953   \n",
            "4              0.323003          -0.323003   -0.257953      0.257953   \n",
            "\n",
            "   OBESITAS_Tidak  ...  NAMA_NAMA 90  NAMA_NAMA 91  NAMA_NAMA 92  \\\n",
            "0         0.09483  ...         False         False         False   \n",
            "1         0.09483  ...         False         False         False   \n",
            "2         0.09483  ...         False         False         False   \n",
            "3         0.09483  ...         False         False         False   \n",
            "4         0.09483  ...         False         False         False   \n",
            "\n",
            "   NAMA_NAMA 93  NAMA_NAMA 94  NAMA_NAMA 95  NAMA_NAMA 96  NAMA_NAMA 97  \\\n",
            "0         False         False         False         False         False   \n",
            "1         False         False         False         False         False   \n",
            "2         False         False         False         False         False   \n",
            "3         False         False         False         False         False   \n",
            "4         False         False         False         False         False   \n",
            "\n",
            "   NAMA_NAMA 98  NAMA_NAMA 99  \n",
            "0         False         False  \n",
            "1         False         False  \n",
            "2         False         False  \n",
            "3         False         False  \n",
            "4         False         False  \n",
            "\n",
            "[5 rows x 577 columns]\n"
          ]
        }
      ]
    },
    {
      "cell_type": "markdown",
      "source": [
        "# 5. Feature Interaction\n",
        "Buat fitur baru berdasarkan interaksi antar fitur yang sudah ada, seperti perkalian atau pembagian antara dua kolom numerik."
      ],
      "metadata": {
        "id": "F8AzGG_dLjVd"
      }
    },
    {
      "cell_type": "code",
      "source": [
        "import itertools\n",
        "\n",
        "# Kolom numerik\n",
        "numeric_cols = ['USIA', 'PARITAS', 'JARAK KELAHIRAN']\n",
        "\n",
        "# Kolom biner (0/1) tanpa 'PE/Non PE' karena itu target\n",
        "binary_cols = ['RIW HIPERTENSI_Tidak', 'RIW HIPERTENSI_Ya',\n",
        "               'RIW PE_Ada', 'RIW PE_Tidak', 'OBESITAS_Tidak', 'OBESITAS_Ya',\n",
        "               'RIW DM_Tidak', 'RIW DM_Ya', 'RIW HIPERTENSI/PE DALAM KELUARGA_Ada',\n",
        "               'RIW HIPERTENSI/PE DALAM KELUARGA_Tidak', 'SOSEK RENDAH_<UMR',\n",
        "               'SOSEK RENDAH_>UMR']\n",
        "\n",
        "# Membuat interaksi antara kolom numerik dan biner\n",
        "for num_col, bin_col in itertools.product(numeric_cols, binary_cols):\n",
        "    df_encoded[f'{num_col}_x_{bin_col}'] = df_encoded[num_col] * df_encoded[bin_col]\n",
        "\n",
        "# Membuat interaksi antara sesama kolom numerik\n",
        "for col1, col2 in itertools.combinations(numeric_cols, 2):\n",
        "    df_encoded[f'{col1}_x_{col2}'] = df_encoded[col1] * df_encoded[col2]\n",
        "\n",
        "# Membuat interaksi antara sesama kolom biner\n",
        "for col1, col2 in itertools.combinations(binary_cols, 2):\n",
        "    df_encoded[f'{col1}_x_{col2}'] = df_encoded[col1] * df_encoded[col2]\n",
        "\n",
        "# Cek hasilnya\n",
        "print(df_encoded.head())"
      ],
      "metadata": {
        "colab": {
          "base_uri": "https://localhost:8080/"
        },
        "id": "44EW2g-_BTG2",
        "outputId": "f250b5ec-feb4-4968-b477-6eb5b1265776"
      },
      "execution_count": 26,
      "outputs": [
        {
          "output_type": "stream",
          "name": "stdout",
          "text": [
            "         NO      USIA   PARITAS  JARAK KELAHIRAN  PE/Non PE  \\\n",
            "0 -1.732028 -0.887602  1.276255        -1.863823  -0.280796   \n",
            "1 -1.725861  0.137419  0.287334        -1.863823   3.561310   \n",
            "2 -1.719694 -1.400112 -0.701588         0.935654  -0.280796   \n",
            "3 -1.713527 -1.741786 -0.701588         0.935654  -0.280796   \n",
            "4 -1.707360  0.991603  1.276255        -0.464084  -0.280796   \n",
            "\n",
            "   RIW HIPERTENSI_Tidak  RIW HIPERTENSI_Ya  RIW PE_Ada  RIW PE_Tidak  \\\n",
            "0              0.323003          -0.323003   -0.257953      0.257953   \n",
            "1              0.323003          -0.323003    3.876670     -3.876670   \n",
            "2              0.323003          -0.323003   -0.257953      0.257953   \n",
            "3              0.323003          -0.323003   -0.257953      0.257953   \n",
            "4              0.323003          -0.323003   -0.257953      0.257953   \n",
            "\n",
            "   OBESITAS_Tidak  ...  RIW DM_Ya_x_RIW HIPERTENSI/PE DALAM KELUARGA_Ada  \\\n",
            "0         0.09483  ...                                         -1.491308   \n",
            "1         0.09483  ...                                         -0.670552   \n",
            "2         0.09483  ...                                          0.013411   \n",
            "3         0.09483  ...                                          0.013411   \n",
            "4         0.09483  ...                                          0.013411   \n",
            "\n",
            "   RIW DM_Ya_x_RIW HIPERTENSI/PE DALAM KELUARGA_Tidak  \\\n",
            "0                                           1.491308    \n",
            "1                                           0.670552    \n",
            "2                                          -0.013411    \n",
            "3                                          -0.013411    \n",
            "4                                          -0.013411    \n",
            "\n",
            "   RIW DM_Ya_x_SOSEK RENDAH_<UMR  RIW DM_Ya_x_SOSEK RENDAH_>UMR  \\\n",
            "0                      -0.893624                       0.893624   \n",
            "1                       0.008036                      -0.008036   \n",
            "2                       0.008036                      -0.008036   \n",
            "3                       0.008036                      -0.008036   \n",
            "4                       0.008036                      -0.008036   \n",
            "\n",
            "   RIW HIPERTENSI/PE DALAM KELUARGA_Ada_x_RIW HIPERTENSI/PE DALAM KELUARGA_Tidak  \\\n",
            "0                                              -0.02                               \n",
            "1                                             -50.00                               \n",
            "2                                              -0.02                               \n",
            "3                                              -0.02                               \n",
            "4                                              -0.02                               \n",
            "\n",
            "   RIW HIPERTENSI/PE DALAM KELUARGA_Ada_x_SOSEK RENDAH_<UMR  \\\n",
            "0                                           0.011984          \n",
            "1                                          -0.599222          \n",
            "2                                           0.011984          \n",
            "3                                           0.011984          \n",
            "4                                           0.011984          \n",
            "\n",
            "   RIW HIPERTENSI/PE DALAM KELUARGA_Ada_x_SOSEK RENDAH_>UMR  \\\n",
            "0                                          -0.011984          \n",
            "1                                           0.599222          \n",
            "2                                          -0.011984          \n",
            "3                                          -0.011984          \n",
            "4                                          -0.011984          \n",
            "\n",
            "   RIW HIPERTENSI/PE DALAM KELUARGA_Tidak_x_SOSEK RENDAH_<UMR  \\\n",
            "0                                          -0.011984            \n",
            "1                                           0.599222            \n",
            "2                                          -0.011984            \n",
            "3                                          -0.011984            \n",
            "4                                          -0.011984            \n",
            "\n",
            "   RIW HIPERTENSI/PE DALAM KELUARGA_Tidak_x_SOSEK RENDAH_>UMR  \\\n",
            "0                                           0.011984            \n",
            "1                                          -0.599222            \n",
            "2                                           0.011984            \n",
            "3                                           0.011984            \n",
            "4                                           0.011984            \n",
            "\n",
            "   SOSEK RENDAH_<UMR_x_SOSEK RENDAH_>UMR  \n",
            "0                              -0.007181  \n",
            "1                              -0.007181  \n",
            "2                              -0.007181  \n",
            "3                              -0.007181  \n",
            "4                              -0.007181  \n",
            "\n",
            "[5 rows x 682 columns]\n"
          ]
        }
      ]
    },
    {
      "cell_type": "markdown",
      "source": [
        "# 6. Feature Selection\n",
        "Menggunakan Feature Importance dengan model seperti Random Forest atau teknik lain seperti Variance Threshold untuk memilih fitur yang paling relevan."
      ],
      "metadata": {
        "id": "TzUQC5MtMGC-"
      }
    },
    {
      "cell_type": "code",
      "source": [
        "print(y_train.unique())"
      ],
      "metadata": {
        "colab": {
          "base_uri": "https://localhost:8080/"
        },
        "id": "WM2L_MYzJq88",
        "outputId": "5cd24d97-01a7-4886-a872-091f711806d5"
      },
      "execution_count": 27,
      "outputs": [
        {
          "output_type": "stream",
          "name": "stdout",
          "text": [
            "[0, 1]\n",
            "Categories (2, int64): [0 < 1]\n"
          ]
        }
      ]
    },
    {
      "cell_type": "code",
      "source": [
        "# Contoh binning nilai target menjadi dua kategori diskret\n",
        "df_encoded['PE/Non PE'] = pd.cut(df_encoded['PE/Non PE'], bins=2, labels=[0, 1])\n",
        "\n",
        "# Lanjutkan ke feature selection dan pelatihan model\n",
        "X = df_encoded.drop('PE/Non PE', axis=1)\n",
        "y = df_encoded['PE/Non PE']"
      ],
      "metadata": {
        "id": "ae9aALS1KLDe"
      },
      "execution_count": 28,
      "outputs": []
    },
    {
      "cell_type": "code",
      "source": [
        "from sklearn.ensemble import RandomForestClassifier\n",
        "from sklearn.feature_selection import SelectFromModel\n",
        "from sklearn.model_selection import train_test_split\n",
        "\n",
        "# Pisahkan fitur (X) dan target (y)\n",
        "X = df_encoded.drop('PE/Non PE', axis=1)  # Drop kolom target\n",
        "y = df_encoded['PE/Non PE']  # Target\n",
        "\n",
        "# Split data menjadi training dan testing set\n",
        "X_train, X_test, y_train, y_test = train_test_split(X, y, test_size=0.2, random_state=42)\n",
        "\n",
        "# Inisiasi RandomForestClassifier\n",
        "model = RandomForestClassifier()\n",
        "\n",
        "# Fit model pada training data\n",
        "model.fit(X_train, y_train)\n",
        "\n",
        "# Seleksi fitur berdasarkan importance\n",
        "selector = SelectFromModel(model, prefit=True)\n",
        "X_train_selected = selector.transform(X_train)\n",
        "X_test_selected = selector.transform(X_test)\n",
        "\n",
        "# Cek jumlah fitur yang terpilih\n",
        "print(f'Jumlah fitur sebelum seleksi: {X_train.shape[1]}')\n",
        "print(f'Jumlah fitur setelah seleksi: {X_train_selected.shape[1]}')"
      ],
      "metadata": {
        "colab": {
          "base_uri": "https://localhost:8080/"
        },
        "id": "9jEeKpfiJNIO",
        "outputId": "ae2a852e-604c-4912-8019-a70178f23d24"
      },
      "execution_count": 29,
      "outputs": [
        {
          "output_type": "stream",
          "name": "stdout",
          "text": [
            "Jumlah fitur sebelum seleksi: 681\n",
            "Jumlah fitur setelah seleksi: 110\n"
          ]
        },
        {
          "output_type": "stream",
          "name": "stderr",
          "text": [
            "/usr/local/lib/python3.10/dist-packages/sklearn/base.py:486: UserWarning: X has feature names, but SelectFromModel was fitted without feature names\n",
            "  warnings.warn(\n",
            "/usr/local/lib/python3.10/dist-packages/sklearn/base.py:486: UserWarning: X has feature names, but SelectFromModel was fitted without feature names\n",
            "  warnings.warn(\n"
          ]
        }
      ]
    }
  ]
}